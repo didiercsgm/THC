{
  "nbformat": 4,
  "nbformat_minor": 0,
  "metadata": {
    "colab": {
      "provenance": [],
      "authorship_tag": "ABX9TyPcxLJipWWY8T3oWRcVxy/Y",
      "include_colab_link": true
    },
    "kernelspec": {
      "name": "python3",
      "display_name": "Python 3"
    },
    "language_info": {
      "name": "python"
    }
  },
  "cells": [
    {
      "cell_type": "markdown",
      "metadata": {
        "id": "view-in-github",
        "colab_type": "text"
      },
      "source": [
        "<a href=\"https://colab.research.google.com/github/didiercsgm/THC/blob/main/THC_DIDIER_CAMILLE_GAETAN_SERRANO_MORENO_TAREA_5.ipynb\" target=\"_parent\"><img src=\"https://colab.research.google.com/assets/colab-badge.svg\" alt=\"Open In Colab\"/></a>"
      ]
    },
    {
      "cell_type": "code",
      "source": [
        "list = []\n",
        "\n",
        "for j in range (5):\n",
        "  list.append(0)\n",
        "\n",
        "print(\"ingrese\", len(list), \"números\")\n",
        "\n",
        "avx = 0\n",
        "avg = 0\n",
        "\n",
        "odds = []\n",
        "evens = []\n",
        "\n",
        "for i in range(len(list)):\n",
        "  new = int(input())\n",
        "  list[i] = new\n",
        "  avx+= new\n",
        "  if (list[i])% 2 == 0:\n",
        "    evens.append(new)\n",
        "  else:\n",
        "    odds.append(new)\n",
        "\n",
        "high = list[0]\n",
        "\n",
        "low = list[0]\n",
        "\n",
        "for k in list:\n",
        "  if k > high:\n",
        "    high = k\n",
        "  if k < low:\n",
        "   low = k\n",
        "\n",
        "avg = avx/len(list)\n",
        "\n",
        "print(\"el promedio de los números es\", avg)\n",
        "print(\"el valor máximo es\", high)\n",
        "print(\"el valor mínimo es\", low)\n",
        "\n",
        "if len(evens) == 0:\n",
        "  print(\"no hay números pares\")\n",
        "else:\n",
        "  print(\"los números pares son\", evens)\n",
        "\n",
        "if len(odds) == 0:\n",
        "  print(\"no hay números impares\")\n",
        "else:\n",
        "  print(\"los números impares son\", odds)\n"
      ],
      "metadata": {
        "id": "3woQ6dw0Iohy"
      },
      "execution_count": null,
      "outputs": []
    }
  ]
}