{
  "nbformat": 4,
  "nbformat_minor": 0,
  "metadata": {
    "colab": {
      "provenance": [],
      "authorship_tag": "ABX9TyOZQq7PAbs9h5eFMwEEVlss",
      "include_colab_link": true
    },
    "kernelspec": {
      "name": "python3",
      "display_name": "Python 3"
    },
    "language_info": {
      "name": "python"
    }
  },
  "cells": [
    {
      "cell_type": "markdown",
      "metadata": {
        "id": "view-in-github",
        "colab_type": "text"
      },
      "source": [
        "<a href=\"https://colab.research.google.com/github/didiercsgm/THC/blob/main/THC_DIDIER_CAMILLE_GAETAN_SERRANO_MORENO_10_10_2023.ipynb\" target=\"_parent\"><img src=\"https://colab.research.google.com/assets/colab-badge.svg\" alt=\"Open In Colab\"/></a>"
      ]
    },
    {
      "cell_type": "code",
      "execution_count": 14,
      "metadata": {
        "id": "7xQ4LXX4vHcS"
      },
      "outputs": [],
      "source": [
        "dict = {\n",
        "    \"cat\": \"siamese\",\n",
        "    \"dog\": \"tabby\",\n",
        "    \"dog\": \"pug\",\n",
        "    \"dog\": \"samoyed\"\n",
        "      }"
      ]
    },
    {
      "cell_type": "code",
      "source": [
        "dict = {\"p\": 2.7,\n",
        "        \"z\": 2.13,\n",
        "        \"pl\": 5.7\n",
        "        }\n",
        "l = []\n",
        "\n",
        "for i in dict.keys():\n",
        "  l.append(dict[i])\n",
        "\n",
        "print(l)"
      ],
      "metadata": {
        "colab": {
          "base_uri": "https://localhost:8080/"
        },
        "id": "-qJbdR4txdG0",
        "outputId": "f691aa71-d046-43fc-8483-59db7422b159"
      },
      "execution_count": 15,
      "outputs": [
        {
          "output_type": "stream",
          "name": "stdout",
          "text": [
            "[2.7, 2.13, 5.7]\n"
          ]
        }
      ]
    },
    {
      "cell_type": "code",
      "source": [
        "import pandas as pd\n",
        "\n",
        "# Crear un diccionario con datos\n",
        "datos = {\n",
        "    'Nombre': ['Juan', 'María', 'Pedro', 'Luisa'],\n",
        "    'Edad': [25, 28, 22, 30],\n",
        "    'Ciudad': ['Madrid', 'Barcelona', 'Valencia', 'Sevilla']\n",
        "}\n",
        "\n",
        "# Crear un DataFrame a partir del diccionario\n",
        "dataframe = pd.DataFrame(datos)\n",
        "\n",
        "# Mostrar el DataFrame\n",
        "print(dataframe)"
      ],
      "metadata": {
        "colab": {
          "base_uri": "https://localhost:8080/"
        },
        "id": "NCpOTavFyf8c",
        "outputId": "9fadc466-d9c3-42a3-e69f-887f3ac7d15b"
      },
      "execution_count": 16,
      "outputs": [
        {
          "output_type": "stream",
          "name": "stdout",
          "text": [
            "  Nombre  Edad     Ciudad\n",
            "0   Juan    25     Madrid\n",
            "1  María    28  Barcelona\n",
            "2  Pedro    22   Valencia\n",
            "3  Luisa    30    Sevilla\n"
          ]
        }
      ]
    },
    {
      "cell_type": "code",
      "source": [
        "frutas = (\"banana\", \"annanas\", \"mango\")\n",
        "\n",
        "for fruta in frutas:\n",
        "  print(fruta)\n"
      ],
      "metadata": {
        "colab": {
          "base_uri": "https://localhost:8080/"
        },
        "id": "EwK_d9750iEg",
        "outputId": "0baf3a96-823f-4491-daa4-cc085f39b671"
      },
      "execution_count": 23,
      "outputs": [
        {
          "output_type": "stream",
          "name": "stdout",
          "text": [
            "banana\n",
            "annanas\n",
            "mango\n",
            "banana\n",
            "es fruta\n"
          ]
        }
      ]
    },
    {
      "cell_type": "code",
      "source": [
        "frutas = (\"banana\", \"annanas\", \"mango\")\n",
        "\n",
        "fru = str(input(\"es fruta? \"))\n",
        "\n",
        "if fru in frutas:\n",
        "  print(\"es fruta\")\n",
        "else:\n",
        "  print(\"no es fruta\")"
      ],
      "metadata": {
        "colab": {
          "base_uri": "https://localhost:8080/"
        },
        "id": "mH5N8wU42Bgu",
        "outputId": "0968f01d-c3aa-4412-d9b4-afcb1c07846a"
      },
      "execution_count": 26,
      "outputs": [
        {
          "output_type": "stream",
          "name": "stdout",
          "text": [
            "es fruta? uvas\n",
            "no es fruta\n"
          ]
        }
      ]
    },
    {
      "cell_type": "code",
      "source": [
        "def say_hello():\n",
        "  print(\"cómo te llamas?\")\n",
        "  name = str(input())\n",
        "  print(\"hola \"+name)\n",
        "  greet = str(input())\n",
        "  if greet == \"hola\":\n",
        "    print(\"hola\")\n",
        "  else:\n",
        "    print(\"no seas grosero\")\n",
        "\n",
        "say_hello()"
      ],
      "metadata": {
        "id": "fhX_hpzX2bCE"
      },
      "execution_count": null,
      "outputs": []
    },
    {
      "cell_type": "code",
      "source": [
        "def hola(name, apellido):\n",
        "  print(\"hola \"+name+\" \"+apellido)\n",
        "\n",
        "hola(input(\"cómo te llamas? \"),input(\"y tu apellido? \"))"
      ],
      "metadata": {
        "id": "or7Qb2nd4F_u"
      },
      "execution_count": null,
      "outputs": []
    },
    {
      "cell_type": "code",
      "source": [
        "def mi_funcion(*kids):\n",
        "    print(len(kids))\n",
        "    print(\"El niño menor es \" + kids[(len(kids)-1)])\n",
        "\n",
        "mi_funcion(\"Emil\", \"Tobias\", \"Linus\", \"Weenus\")\n",
        "\n"
      ],
      "metadata": {
        "id": "VbpKerch4XyR"
      },
      "execution_count": null,
      "outputs": []
    },
    {
      "cell_type": "code",
      "source": [
        "def kiddos(niño3,niño2,niño1):\n",
        "    print(\"El niño menor es \" + niño3)\n",
        "\n",
        "kiddos(niño1 = \"Emil\", niño2 = \"Tobias\", niño3 = \"Linus\")"
      ],
      "metadata": {
        "colab": {
          "base_uri": "https://localhost:8080/"
        },
        "id": "1p8gJJyD5cuz",
        "outputId": "19d2c1a1-1dd5-432c-e766-d2159db59482"
      },
      "execution_count": 47,
      "outputs": [
        {
          "output_type": "stream",
          "name": "stdout",
          "text": [
            "El niño menor es Linus\n"
          ]
        }
      ]
    },
    {
      "cell_type": "code",
      "source": [
        "a = []\n",
        "\n",
        "n = int(input(\"elementos en el primer vector : \"))\n",
        "\n",
        "for i in range(0, n):\n",
        "\tele = int(input())\n",
        "\ta.append(ele)\n",
        "\n",
        "b = []\n",
        "\n",
        "n = int(input(\"elementos en el segundo vector : \"))\n",
        "\n",
        "for i in range(0, n):\n",
        "\tele = int(input())\n",
        "\tb.append(ele)\n",
        "\n",
        "print(a)\n",
        "\n",
        "print(b)\n",
        "\n",
        "def vsum(a,b):\n",
        "\n",
        "  if len(a) != len(b):\n",
        "    print(\"los vectores no se pueden sumar\")\n",
        "    return\n",
        "  res = []\n",
        "  for i in range(len(a)):\n",
        "    res.append(a[i]+b[i])\n",
        "  print(res)\n",
        "\n",
        "vsum(a,b)\n"
      ],
      "metadata": {
        "colab": {
          "base_uri": "https://localhost:8080/"
        },
        "id": "FeWiXCbK69Bo",
        "outputId": "2029959f-81f4-4daa-9e54-d57750ef87bb"
      },
      "execution_count": 86,
      "outputs": [
        {
          "output_type": "stream",
          "name": "stdout",
          "text": [
            "elementos en el primer vector : 2\n",
            "1\n",
            "8\n",
            "elementos en el segundo vector : 3\n",
            "3\n",
            "5\n",
            "7\n",
            "[1, 8]\n",
            "[3, 5, 7]\n",
            "los vectores no se pueden sumar\n"
          ]
        }
      ]
    }
  ]
}