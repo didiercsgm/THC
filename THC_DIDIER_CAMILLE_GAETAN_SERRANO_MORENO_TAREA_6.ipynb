{
  "nbformat": 4,
  "nbformat_minor": 0,
  "metadata": {
    "colab": {
      "provenance": [],
      "authorship_tag": "ABX9TyO71qkQN5hGbZhVSMPk7j9X",
      "include_colab_link": true
    },
    "kernelspec": {
      "name": "python3",
      "display_name": "Python 3"
    },
    "language_info": {
      "name": "python"
    }
  },
  "cells": [
    {
      "cell_type": "markdown",
      "metadata": {
        "id": "view-in-github",
        "colab_type": "text"
      },
      "source": [
        "<a href=\"https://colab.research.google.com/github/didiercsgm/THC/blob/main/THC_DIDIER_CAMILLE_GAETAN_SERRANO_MORENO_TAREA_6.ipynb\" target=\"_parent\"><img src=\"https://colab.research.google.com/assets/colab-badge.svg\" alt=\"Open In Colab\"/></a>"
      ]
    },
    {
      "cell_type": "code",
      "execution_count": 90,
      "metadata": {
        "colab": {
          "base_uri": "https://localhost:8080/"
        },
        "id": "fs_XPgLgFRSa",
        "outputId": "95120632-0a92-4f93-f669-ecfceb84a0d7"
      },
      "outputs": [
        {
          "output_type": "stream",
          "name": "stdout",
          "text": [
            "los vectores son: a = [1, 2, 3] y b = [6, 5, 2]\n",
            "el producto punto de los vectores a · b es : 22\n",
            "a a la 3 es [1, 8, 27]\n",
            "b a la 3 es [216, 125, 8]\n",
            "a * 7 es [7, 14, 21] y b * 7 es [42, 35, 14]\n"
          ]
        }
      ],
      "source": [
        "A = [1,2,3]\n",
        "B = [6,5,2]\n",
        "Lambda = 7\n",
        "N = 3\n",
        "\n",
        "\n",
        "def vdot(a = A, b = B): #producto punto\n",
        "\n",
        "  if len(a) != len(b):\n",
        "    print(\"los vectores no se pueden multiplicar\")\n",
        "    return\n",
        "\n",
        "  dotres = 0\n",
        "\n",
        "  for i in range(len(a)):\n",
        "    dotres+= (a[i]*b[i])\n",
        "\n",
        "  print(\"el producto punto de los vectores a · b es :\", dotres)\n",
        "\n",
        "\n",
        "def vpower(a = A, b = B, exp = N): #elementos de vectores a una potencia\n",
        "\n",
        "  expres1 = [0]*len(a)\n",
        "  expres2 = [0]*len(b)\n",
        "\n",
        "  for i in range(len(a)):\n",
        "    expres1[i] = a[i]**exp\n",
        "\n",
        "  print(\"a a la\", exp, \"es\", expres1)\n",
        "\n",
        "  for i in range(len(a)):\n",
        "    expres2[i] = b[i]**exp\n",
        "\n",
        "  print(\"b a la\", exp, \"es\", expres2)\n",
        "\n",
        "def vscalar(a = A, b = B, l = Lambda): #producto de un vector y un escalar\n",
        "\n",
        "  scal1 = [0]*len(a)\n",
        "\n",
        "  scal2 = [0]*len(a)\n",
        "\n",
        "  for i in range(len(a)):\n",
        "    scal1[i] = l*a[i]\n",
        "\n",
        "  for j in range(len(a)):\n",
        "    scal2[j] = l*b[j]\n",
        "\n",
        "  print(\"a *\", l, \"es\", scal1, \"y b *\", l, \"es\", scal2)\n",
        "\n",
        "\n",
        "def vmaster():\n",
        "  print(\"los vectores son: a =\", A, \"y b =\", B)\n",
        "  vdot()\n",
        "  vpower()\n",
        "  vscalar()\n",
        "\n",
        "vmaster()"
      ]
    }
  ]
}