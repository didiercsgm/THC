{
  "nbformat": 4,
  "nbformat_minor": 0,
  "metadata": {
    "colab": {
      "provenance": [],
      "authorship_tag": "ABX9TyNcSM/wOMqQHhdFTzbf81Mu",
      "include_colab_link": true
    },
    "kernelspec": {
      "name": "python3",
      "display_name": "Python 3"
    },
    "language_info": {
      "name": "python"
    }
  },
  "cells": [
    {
      "cell_type": "markdown",
      "metadata": {
        "id": "view-in-github",
        "colab_type": "text"
      },
      "source": [
        "<a href=\"https://colab.research.google.com/github/didiercsgm/THC/blob/main/THC_DIDIER_CAMILLE_GAETAN_SERRANO_MORENO_19_10_2023.ipynb\" target=\"_parent\"><img src=\"https://colab.research.google.com/assets/colab-badge.svg\" alt=\"Open In Colab\"/></a>"
      ]
    },
    {
      "cell_type": "code",
      "execution_count": 15,
      "metadata": {
        "colab": {
          "base_uri": "https://localhost:8080/"
        },
        "id": "Dm_LY40fIZUu",
        "outputId": "e1f1f4bd-85ac-43e5-caa5-b25680847e58"
      },
      "outputs": [
        {
          "output_type": "stream",
          "name": "stdout",
          "text": [
            "14\n"
          ]
        }
      ],
      "source": [
        "import numpy as np\n",
        "\n",
        "arr = np.array([[[1,2,3],[4,5,6],[7,8,9]],[[10,11,12],[13,14,15],[16,17,18]]])\n",
        "\n",
        "print(arr[1,1,1])"
      ]
    },
    {
      "cell_type": "code",
      "source": [
        "mat = [[1,2,3],[4,5,6],[7,8,9]]\n",
        "\n",
        "sumres = 0\n",
        "\n",
        "for i in range(len(mat)):\n",
        "  for k in range(len(mat[i])):\n",
        "    sumres = sumres + mat[i][k]\n",
        "\n",
        "print(sumres)"
      ],
      "metadata": {
        "colab": {
          "base_uri": "https://localhost:8080/"
        },
        "id": "jk5o8OcCKGZ-",
        "outputId": "8696d094-fc6e-44ff-fb09-4dc2cc62b84a"
      },
      "execution_count": 21,
      "outputs": [
        {
          "output_type": "stream",
          "name": "stdout",
          "text": [
            "45\n"
          ]
        }
      ]
    },
    {
      "cell_type": "code",
      "source": [
        "import numpy as np\n",
        "\n",
        "mat = np.array([[[1,2,3],[4,5,6],[7,8,9]]\n",
        "               ,[[10,11,12],[13,14,15],[16,17,18]]\n",
        "               ,[[19,20,21],[22,23,24],[25,26,27]]])\n",
        "\n",
        "sumres = 0\n",
        "\n",
        "for i in range(len(mat)):\n",
        "  for k in range(len(mat[i])):\n",
        "    for j in range(len(mat[i,k])):\n",
        "      sumres += mat[i,k,j]\n",
        "\n",
        "print(sumres)"
      ],
      "metadata": {
        "colab": {
          "base_uri": "https://localhost:8080/"
        },
        "id": "8kyJ6TftJ4I6",
        "outputId": "5d44195f-18f0-46a4-9275-3a27d43271b5"
      },
      "execution_count": 63,
      "outputs": [
        {
          "output_type": "stream",
          "name": "stdout",
          "text": [
            "378\n"
          ]
        }
      ]
    },
    {
      "cell_type": "code",
      "source": [
        "import numpy as np\n",
        "\n",
        "mat = np.array([[[1,2,3],[4,5,6],[7,8,9]]\n",
        "               ,[[10,11,12],[13,14,15],[16,17,18]]\n",
        "               ,[[19,20,21],[22,23,24],[25,26,27]]])\n",
        "\n",
        "scalres = 0\n",
        "\n",
        "for i in range(len(mat)):\n",
        "  for k in range(len(mat[i])):\n",
        "    for j in range(len(mat[i,k])):\n",
        "      scalres += mat[i,k,j]"
      ],
      "metadata": {
        "id": "uDheByPfW9z8"
      },
      "execution_count": 64,
      "outputs": []
    },
    {
      "cell_type": "code",
      "source": [
        "mat1 = [[1,2,3],[4,5,6],[7,8,9]]\n",
        "mat2 = mat1\n",
        "\n",
        "def pydot():\n",
        "\n",
        "  dotres = 0\n",
        "\n",
        "  for i in range(len(mat1)):\n",
        "    for k in range(len(mat1[i])):\n",
        "      dotres += mat1[i][k]*mat2[i][k]\n",
        "\n",
        "  print(dotres)\n",
        "\n",
        "pydot()"
      ],
      "metadata": {
        "colab": {
          "base_uri": "https://localhost:8080/"
        },
        "id": "lnoLWk8SRE7q",
        "outputId": "1a11bd96-a7ef-4a30-b427-d40cecb02d08"
      },
      "execution_count": 62,
      "outputs": [
        {
          "output_type": "stream",
          "name": "stdout",
          "text": [
            "285\n"
          ]
        }
      ]
    },
    {
      "cell_type": "code",
      "source": [
        "import numpy as np\n",
        "\n",
        "mat = np.array([[[1,2,3],[4,5,6],[7,8,9]]\n",
        "                ,[[10,11,12],[13,14,15],[16,17,18]]\n",
        "                ,[[19,20,21],[22,23,24],[25,26,27]]])\n",
        "\n",
        "def npdot(a = mat,b = mat):\n",
        "\n",
        "  multres = 0\n",
        "\n",
        "  for i in range(len(a)):\n",
        "    for k in range(len(a[i])):\n",
        "      for j in range(len(a[i,k])):\n",
        "        multres = multres + a[i,k,j]*b[i,k,j]\n",
        "\n",
        "  print(multres)\n",
        "\n",
        "npdot()"
      ],
      "metadata": {
        "colab": {
          "base_uri": "https://localhost:8080/"
        },
        "id": "0CIjvEbIQ-vC",
        "outputId": "322abbf4-d821-41c4-a49e-c7c9168f6d30"
      },
      "execution_count": 65,
      "outputs": [
        {
          "output_type": "stream",
          "name": "stdout",
          "text": [
            "6930\n"
          ]
        }
      ]
    },
    {
      "cell_type": "code",
      "source": [
        "import numpy as np\n",
        "\n",
        "mat = np.array([[[1,2,3],[4,5,6],[7,8,9]]\n",
        "                ,[[10,11,12],[13,14,15],[16,17,18]]\n",
        "                ,[[19,20,21],[22,23,24],[25,26,27]]])\n",
        "\n",
        "def npdot(a = mat,b = mat):\n",
        "\n",
        "  multres = 0\n",
        "\n",
        "  for i in range(len(a)):\n",
        "    for k in range(len(a[i])):\n",
        "      for j in range(len(a[i,k])):\n",
        "        multres = multres + a[i,k,j]*b[i,k,j]\n",
        "\n",
        "  print(multres)\n",
        "\n",
        "npdot()"
      ],
      "metadata": {
        "id": "Y4JXGTrZX5oQ"
      },
      "execution_count": null,
      "outputs": []
    }
  ]
}