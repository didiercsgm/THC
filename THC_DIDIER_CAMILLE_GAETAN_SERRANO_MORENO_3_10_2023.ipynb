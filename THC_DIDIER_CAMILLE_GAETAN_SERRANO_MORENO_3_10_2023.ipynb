{
  "nbformat": 4,
  "nbformat_minor": 0,
  "metadata": {
    "colab": {
      "provenance": [],
      "authorship_tag": "ABX9TyOWcOFY/y+JtdmtpVRFdIHX",
      "include_colab_link": true
    },
    "kernelspec": {
      "name": "python3",
      "display_name": "Python 3"
    },
    "language_info": {
      "name": "python"
    }
  },
  "cells": [
    {
      "cell_type": "markdown",
      "metadata": {
        "id": "view-in-github",
        "colab_type": "text"
      },
      "source": [
        "<a href=\"https://colab.research.google.com/github/didiercsgm/THC/blob/main/THC_DIDIER_CAMILLE_GAETAN_SERRANO_MORENO_3_10_2023.ipynb\" target=\"_parent\"><img src=\"https://colab.research.google.com/assets/colab-badge.svg\" alt=\"Open In Colab\"/></a>"
      ]
    },
    {
      "cell_type": "code",
      "execution_count": null,
      "metadata": {
        "colab": {
          "base_uri": "https://localhost:8080/"
        },
        "id": "htmAfCTCt1-0",
        "outputId": "4fa855ce-7665-423b-c4bf-27ddb430de3e"
      },
      "outputs": [
        {
          "output_type": "stream",
          "name": "stdout",
          "text": [
            "1\n",
            "2\n",
            "3\n",
            "4\n",
            "5\n",
            "6\n",
            "7\n",
            "8\n",
            "9\n",
            "10\n"
          ]
        }
      ],
      "source": [
        "i=0\n",
        "\n",
        "while i<10:\n",
        "  i+=1\n",
        "  print(i)"
      ]
    },
    {
      "cell_type": "code",
      "source": [],
      "metadata": {
        "id": "3b3Wtz13uOZQ"
      },
      "execution_count": null,
      "outputs": []
    },
    {
      "cell_type": "code",
      "source": [
        "k = 50\n",
        "\n",
        "sum = 0\n",
        "\n",
        "for i in range(k+1):\n",
        "  sum = sum+i\n",
        "\n",
        "print(sum)"
      ],
      "metadata": {
        "colab": {
          "base_uri": "https://localhost:8080/"
        },
        "id": "2XRqXAbNuOfj",
        "outputId": "99253ca1-8987-471e-88e8-1129420cecb3"
      },
      "execution_count": null,
      "outputs": [
        {
          "output_type": "stream",
          "name": "stdout",
          "text": [
            "1275\n"
          ]
        }
      ]
    },
    {
      "cell_type": "code",
      "source": [
        "sum = 0\n",
        "\n",
        "k = 50\n",
        "\n",
        "i = 1\n",
        "\n",
        "while i < k+1:\n",
        "  sum = sum+i\n",
        "  i+=1\n",
        "\n",
        "print(sum)"
      ],
      "metadata": {
        "colab": {
          "base_uri": "https://localhost:8080/"
        },
        "id": "e5dAPn_ywKK3",
        "outputId": "39368503-4db3-434e-d004-a6397a969e07"
      },
      "execution_count": null,
      "outputs": [
        {
          "output_type": "stream",
          "name": "stdout",
          "text": [
            "1275\n"
          ]
        }
      ]
    },
    {
      "cell_type": "code",
      "source": [
        "k = 11\n",
        "\n",
        "fac = 1\n",
        "\n",
        "for i in range(1,k+1):\n",
        "  fac = fac*i\n",
        "\n",
        "print(fac)"
      ],
      "metadata": {
        "colab": {
          "base_uri": "https://localhost:8080/"
        },
        "id": "35jfdLAcxYaK",
        "outputId": "d0056f54-48c9-4a47-ed3d-3659eabf8b39"
      },
      "execution_count": null,
      "outputs": [
        {
          "output_type": "stream",
          "name": "stdout",
          "text": [
            "39916800\n"
          ]
        }
      ]
    },
    {
      "cell_type": "code",
      "source": [
        "k = 100\n",
        "\n",
        "for i in range(1,k+1):\n",
        "  if(i%2 == 0):\n",
        "    print(i)"
      ],
      "metadata": {
        "colab": {
          "base_uri": "https://localhost:8080/"
        },
        "id": "qPtMg880ysgW",
        "outputId": "c531f0eb-cca0-4994-ca95-7f9aeaeb2ddf"
      },
      "execution_count": null,
      "outputs": [
        {
          "output_type": "stream",
          "name": "stdout",
          "text": [
            "2\n",
            "4\n",
            "6\n",
            "8\n",
            "10\n",
            "12\n",
            "14\n",
            "16\n",
            "18\n",
            "20\n",
            "22\n",
            "24\n",
            "26\n",
            "28\n",
            "30\n",
            "32\n",
            "34\n",
            "36\n",
            "38\n",
            "40\n",
            "42\n",
            "44\n",
            "46\n",
            "48\n",
            "50\n",
            "52\n",
            "54\n",
            "56\n",
            "58\n",
            "60\n",
            "62\n",
            "64\n",
            "66\n",
            "68\n",
            "70\n",
            "72\n",
            "74\n",
            "76\n",
            "78\n",
            "80\n",
            "82\n",
            "84\n",
            "86\n",
            "88\n",
            "90\n",
            "92\n",
            "94\n",
            "96\n",
            "98\n",
            "100\n"
          ]
        }
      ]
    },
    {
      "cell_type": "code",
      "source": [
        "set = {2,4,5,6,9,17}\n",
        "\n",
        "for i in range(len(set)):\n",
        "  print(set{i})"
      ],
      "metadata": {
        "id": "b-M_eXD21LTF"
      },
      "execution_count": null,
      "outputs": []
    },
    {
      "cell_type": "code",
      "source": [
        "vegetales = [\"broccoli\", \"espinaca\", \"aspárrago\", \"col de bruselas\"]\n",
        "\n",
        "for vegetal in vegetales:\n",
        "  print(vegetal)"
      ],
      "metadata": {
        "colab": {
          "base_uri": "https://localhost:8080/"
        },
        "id": "JkCaGzVQ37QT",
        "outputId": "0216a0cc-4198-4cbc-c0a8-d1973b8f5bd7"
      },
      "execution_count": null,
      "outputs": [
        {
          "output_type": "stream",
          "name": "stdout",
          "text": [
            "broccoli\n",
            "espinaca\n",
            "aspárrago\n",
            "col de bruselas\n"
          ]
        }
      ]
    },
    {
      "cell_type": "code",
      "source": [
        "vegetales = [\"broccoli\", \"espinaca\", \"aspárrago\", \"col de bruselas\"]\n",
        "\n",
        "veg = str(input(\"es un vegetal? \"))\n",
        "\n",
        "if veg in vegetales:\n",
        "  print(\"sí, es un vegetal\")\n",
        "else:\n",
        "  print(\"no es vegetal\")"
      ],
      "metadata": {
        "colab": {
          "base_uri": "https://localhost:8080/"
        },
        "id": "gRbMgjfT6sAe",
        "outputId": "6fd6d109-6470-4e02-c639-ebfdf5be23f1"
      },
      "execution_count": null,
      "outputs": [
        {
          "output_type": "stream",
          "name": "stdout",
          "text": [
            "es un vegetal? calabaza\n",
            "no es vegetal\n"
          ]
        }
      ]
    },
    {
      "cell_type": "code",
      "source": [
        "import random\n",
        "\n",
        "nums = []\n",
        "\n",
        "k = 10\n",
        "ran = 10\n",
        "\n",
        "sum = 0\n",
        "\n",
        "for i in range(k):\n",
        "  r = random.randint(1,ran)\n",
        "  nums.append(r)\n",
        "\n",
        "print(nums)\n",
        "\n",
        "for j in range(0, len(nums)):\n",
        "    sum = sum+nums[j]\n",
        "\n",
        "print(sum)"
      ],
      "metadata": {
        "colab": {
          "base_uri": "https://localhost:8080/"
        },
        "id": "OGlXCKSMzu8b",
        "outputId": "fd3602d4-d93c-4111-f550-2617496d1059"
      },
      "execution_count": null,
      "outputs": [
        {
          "output_type": "stream",
          "name": "stdout",
          "text": [
            "[1, 5, 6, 8, 5, 9, 7, 3, 9, 2]\n",
            "55\n"
          ]
        }
      ]
    },
    {
      "cell_type": "code",
      "source": [
        "import random\n",
        "\n",
        "cals = []\n",
        "\n",
        "k = 10\n",
        "ran = 10\n",
        "\n",
        "sum = 0\n",
        "\n",
        "for i in range(k):\n",
        "  r = random.randint(1,ran)\n",
        "  cals.append(r)\n",
        "\n",
        "print(cals)\n",
        "\n",
        "for j in range(0, len(nums)):\n",
        "    sum = sum+cals[j]\n",
        "\n",
        "mean = sum/(len(cals))\n",
        "\n",
        "print(mean)"
      ],
      "metadata": {
        "colab": {
          "base_uri": "https://localhost:8080/"
        },
        "id": "sNWBbLTl8c4y",
        "outputId": "a1347f78-a93c-4098-8927-92ba15a8d4fa"
      },
      "execution_count": null,
      "outputs": [
        {
          "output_type": "stream",
          "name": "stdout",
          "text": [
            "[4, 2, 4, 8, 10, 6, 1, 4, 9, 9]\n",
            "5.7\n"
          ]
        }
      ]
    }
  ]
}