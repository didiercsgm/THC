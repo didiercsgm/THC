{
  "nbformat": 4,
  "nbformat_minor": 0,
  "metadata": {
    "colab": {
      "provenance": [],
      "authorship_tag": "ABX9TyPmyQ7a7/JgmIG/AyBru9eN",
      "include_colab_link": true
    },
    "kernelspec": {
      "name": "python3",
      "display_name": "Python 3"
    },
    "language_info": {
      "name": "python"
    }
  },
  "cells": [
    {
      "cell_type": "markdown",
      "metadata": {
        "id": "view-in-github",
        "colab_type": "text"
      },
      "source": [
        "<a href=\"https://colab.research.google.com/github/didiercsgm/THC/blob/main/THC_DIDIER_CAMILLE_GAETAN_SERRANO_MORENO_17_10_2023.ipynb\" target=\"_parent\"><img src=\"https://colab.research.google.com/assets/colab-badge.svg\" alt=\"Open In Colab\"/></a>"
      ]
    },
    {
      "cell_type": "code",
      "source": [],
      "metadata": {
        "id": "BupiY1xSINsG"
      },
      "execution_count": 61,
      "outputs": []
    },
    {
      "cell_type": "code",
      "execution_count": 34,
      "metadata": {
        "colab": {
          "base_uri": "https://localhost:8080/"
        },
        "id": "k5TRwWsN8VA3",
        "outputId": "a934cc67-7c1b-485f-96b3-04531e555cde"
      },
      "outputs": [
        {
          "output_type": "stream",
          "name": "stdout",
          "text": [
            "[[3, 7, 11], [15, 19, 23], [27, 31, 35]]\n"
          ]
        }
      ],
      "source": [
        "mat1 = [[1,3,5],[7,9,11],[13,15,17]]\n",
        "mat2 = [[2,4,6],[8,10,12],[14,16,18]]\n",
        "\n",
        "def msum(m1 = mat1, m2 = mat2):\n",
        "  matres = []\n",
        "  for i in range(len(m1)):\n",
        "    matres.append([])\n",
        "    for k in range(len(m1)):\n",
        "      matres[i].append(0)\n",
        "      matres[i][k] = (m1[i][k] + m2[i][k])\n",
        "\n",
        "  print(matres)\n",
        "\n",
        "msum()\n",
        "\n"
      ]
    },
    {
      "cell_type": "code",
      "source": [
        "lst = [5,4,3,2,1]\n",
        "\n",
        "def msort(m1 = lst):\n",
        "\n",
        "  for i in range(len(m1)-1):\n",
        "    print(m1[i])\n",
        "    aux = m1[i+1]\n",
        "    if m1[i]  m1[i+1]:\n",
        "      m1[i+1] = m1[i]\n",
        "      m1[i] = m1[i+1]\n",
        "\n",
        "  print(m1)\n",
        "\n",
        "msort()"
      ],
      "metadata": {
        "colab": {
          "base_uri": "https://localhost:8080/"
        },
        "id": "3Uh4cnSD_8ic",
        "outputId": "f7920c65-6d43-4c4e-dbf9-5cc660ac666f"
      },
      "execution_count": 61,
      "outputs": [
        {
          "output_type": "stream",
          "name": "stdout",
          "text": [
            "5\n",
            "4\n",
            "3\n",
            "2\n",
            "[5, 4, 3, 2, 1]\n"
          ]
        }
      ]
    }
  ]
}