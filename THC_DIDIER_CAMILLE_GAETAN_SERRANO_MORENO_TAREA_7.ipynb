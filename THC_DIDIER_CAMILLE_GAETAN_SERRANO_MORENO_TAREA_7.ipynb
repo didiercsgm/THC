{
  "nbformat": 4,
  "nbformat_minor": 0,
  "metadata": {
    "colab": {
      "provenance": [],
      "authorship_tag": "ABX9TyO008JQvzlfPDSop2ADlgdo",
      "include_colab_link": true
    },
    "kernelspec": {
      "name": "python3",
      "display_name": "Python 3"
    },
    "language_info": {
      "name": "python"
    }
  },
  "cells": [
    {
      "cell_type": "markdown",
      "metadata": {
        "id": "view-in-github",
        "colab_type": "text"
      },
      "source": [
        "<a href=\"https://colab.research.google.com/github/didiercsgm/THC/blob/main/THC_DIDIER_CAMILLE_GAETAN_SERRANO_MORENO_TAREA_7.ipynb\" target=\"_parent\"><img src=\"https://colab.research.google.com/assets/colab-badge.svg\" alt=\"Open In Colab\"/></a>"
      ]
    },
    {
      "cell_type": "markdown",
      "source": [
        "Librerías"
      ],
      "metadata": {
        "id": "V7C4uRQ5KMCe"
      }
    },
    {
      "cell_type": "code",
      "source": [
        "import numpy as np\n",
        "import matplotlib.pyplot as plt"
      ],
      "metadata": {
        "id": "q1-zGShzIrCG"
      },
      "execution_count": null,
      "outputs": []
    },
    {
      "cell_type": "markdown",
      "source": [
        "1. Revisa si un número es primo"
      ],
      "metadata": {
        "id": "bIiXRR5xKKzb"
      }
    },
    {
      "cell_type": "code",
      "execution_count": null,
      "metadata": {
        "colab": {
          "base_uri": "https://localhost:8080/"
        },
        "id": "N_D-coc9B-76",
        "outputId": "3c69c7b8-e49c-4353-cd79-f4e277b29691"
      },
      "outputs": [
        {
          "name": "stdout",
          "output_type": "stream",
          "text": [
            "es primo?: 8\n"
          ]
        },
        {
          "output_type": "execute_result",
          "data": {
            "text/plain": [
              "False"
            ]
          },
          "metadata": {},
          "execution_count": 2
        }
      ],
      "source": [
        "#note: implement thing to check if input is an int\n",
        "\n",
        "def primecheck():\n",
        "\n",
        "  check = False\n",
        "\n",
        "  while not check:\n",
        "    try:\n",
        "      num = int(input(\"es primo?: \"))\n",
        "      check = True\n",
        "    except ValueError:\n",
        "      print(\"no es un número, intenta de nuevo\")\n",
        "\n",
        "  while True:\n",
        "    if num <= 1:\n",
        "      check = False\n",
        "      while not check:\n",
        "        try:\n",
        "          num = int(input(\"Error en el número, intenta de nuevo: \"))\n",
        "          check = True\n",
        "        except ValueError:\n",
        "          print(\"no es un número, intenta de nuevo\")\n",
        "    elif num > 1:\n",
        "      break\n",
        "\n",
        "  for i in range(2, num+1):\n",
        "    if num % i == 0:\n",
        "      return False\n",
        "    if i == num-1:\n",
        "      return True\n",
        "\n",
        "primecheck()"
      ]
    },
    {
      "cell_type": "markdown",
      "source": [
        "2. Datos estadísticos"
      ],
      "metadata": {
        "id": "noeED_pSKRhn"
      }
    },
    {
      "cell_type": "code",
      "source": [
        "lst = np.random.randint(151,size=150)\n",
        "\n",
        "print(\"Dada la lista: \", lst)\n",
        "\n",
        "\n",
        "def avg(vals = lst):\n",
        "\n",
        "  sum = 0\n",
        "\n",
        "  for i in range(len(vals)):\n",
        "    sum += lst[i]\n",
        "\n",
        "  res = (sum)/(len(vals))\n",
        "  return res\n",
        "\n",
        "\n",
        "def var(vals = lst):\n",
        "\n",
        "  m = avg()\n",
        "\n",
        "  sqd = [(x - m) ** 2 for x in vals]\n",
        "\n",
        "  sum = 0\n",
        "\n",
        "  for i in sqd:\n",
        "      sum+=i\n",
        "\n",
        "  res = (sum)/(len(vals))\n",
        "\n",
        "  return res\n",
        "\n",
        "\n",
        "def des():\n",
        "\n",
        "  res = np.sqrt(var())\n",
        "\n",
        "  return res\n",
        "\n",
        "def even(vals = lst):\n",
        "\n",
        "  evens = [i for i in vals if i%2 == 0]\n",
        "\n",
        "  res = 0\n",
        "\n",
        "  for i in evens:\n",
        "    res+=i\n",
        "\n",
        "  return res\n",
        "\n",
        "def odd(vals = lst):\n",
        "\n",
        "  odds = [i for i in vals if i%2 == 1]\n",
        "\n",
        "  res = 0\n",
        "\n",
        "  for i in odds:\n",
        "    res+=i\n",
        "\n",
        "  return res\n",
        "\n",
        "def mdos():\n",
        "  return\n",
        "\n",
        "def mtres():\n",
        "  return\n",
        "\n",
        "def mcinco():\n",
        "  return\n",
        "\n",
        "def stats():\n",
        "  print(\"el promedio es:\", avg())\n",
        "  print(\"la varianza es:\", var())\n",
        "  print(\"la desviación estándar es:\", des())\n",
        "  print(\"la suma de los pares es:\", even())\n",
        "  print(\"la suma de los impares es:\", odd())\n",
        "  return\n",
        "\n",
        "stats()"
      ],
      "metadata": {
        "colab": {
          "base_uri": "https://localhost:8080/"
        },
        "id": "C-kT3Dmcc61-",
        "outputId": "70b075bb-1c70-41f5-c0d2-cfb74e7c18e2"
      },
      "execution_count": 123,
      "outputs": [
        {
          "output_type": "stream",
          "name": "stdout",
          "text": [
            "Dada la lista:  [ 90  23 106  40  14 116  58  60 114  46  40  66  55  78  52  30  43 139\n",
            " 117  65 128  75  27 103  43 133 102  97  78   7  85   8  43  59  33  39\n",
            " 121 127 149 122  80  18 101  32   4  90  61 121   0  57  99  20 128  72\n",
            " 127 122  74 145  29  58  49  12  73 106  40  13 118  76  84  63 134 121\n",
            "  65  61  79  91  50 132 103 131  50 138 119  54  17 146  39  26 120  67\n",
            " 139  16 136  57  53  49 127 138   0  67  45  53 148  13  54 137  51 115\n",
            "  78  81 120 150  63 121  39 105 128  87  68  22  66  99  29  99  92  81\n",
            " 108 116  83  77  33  56  46  92  89 105  86  33 117 114  79  57  91  58\n",
            "  31   7  50 144  39  83]\n",
            "el promedio es: 76.44\n",
            "la varianza es: 1587.2464000000004\n",
            "la desviación estándar es: 39.8402610433215\n",
            "la suma de los pares es: 5418\n",
            "la suma de los impares es: 6048\n"
          ]
        }
      ]
    },
    {
      "cell_type": "markdown",
      "source": [
        "3. Ecuaciones Diferenciales"
      ],
      "metadata": {
        "id": "fh-kWteuMmMD"
      }
    },
    {
      "cell_type": "code",
      "source": [
        "def dif_eq():\n",
        "  return"
      ],
      "metadata": {
        "id": "nNncZI3QKTg1"
      },
      "execution_count": null,
      "outputs": []
    },
    {
      "cell_type": "markdown",
      "source": [
        "4. Gráfica de la función: $\\frac{3x + 7}{x^2 - 4}$"
      ],
      "metadata": {
        "id": "punRGNfwG84E"
      }
    },
    {
      "cell_type": "code",
      "source": [
        "dom = np.linspace(-10,10,20001)\n",
        "\n",
        "def func(x):\n",
        "  return ((x*3)+7)/((x**2)-4)\n",
        "\n",
        "xs = func(dom)\n",
        "\n",
        "plt.ylim(-10,10)\n",
        "plt.xlabel(\"x\")\n",
        "plt.ylabel(\"y\", rotation=0)\n",
        "plt.axhline(0, color='gray', linestyle=\"dashed\", label=\"ejes\")\n",
        "plt.axvline(0, color='gray', linestyle=\"dashed\")\n",
        "plt.plot(dom, xs, label=r'$\\frac{3x + 7}{x^2 - 4}$')\n",
        "plt.axvline(x=-2, color=\"red\", linestyle=\"dotted\", label=\"asíntota en x=-2\")\n",
        "plt.axvline(x=2, color=\"green\", linestyle=\"dotted\", label=\"asíntota en x=2\")\n",
        "plt.legend()\n",
        "plt.show"
      ],
      "metadata": {
        "colab": {
          "base_uri": "https://localhost:8080/",
          "height": 510
        },
        "id": "9rx66zIKQWI2",
        "outputId": "256797a3-3d5d-4cf4-8872-2edb1b393545"
      },
      "execution_count": 47,
      "outputs": [
        {
          "output_type": "stream",
          "name": "stderr",
          "text": [
            "<ipython-input-47-e46aeed76e24>:4: RuntimeWarning: divide by zero encountered in divide\n",
            "  return ((x*3)+7)/((x**2)-4)\n"
          ]
        },
        {
          "output_type": "execute_result",
          "data": {
            "text/plain": [
              "<function matplotlib.pyplot.show(close=None, block=None)>"
            ]
          },
          "metadata": {},
          "execution_count": 47
        },
        {
          "output_type": "display_data",
          "data": {
            "text/plain": [
              "<Figure size 640x480 with 1 Axes>"
            ],
            "image/png": "[encoded data removed]"
          },
          "metadata": {}
        }
      ]
    }
  ]
}