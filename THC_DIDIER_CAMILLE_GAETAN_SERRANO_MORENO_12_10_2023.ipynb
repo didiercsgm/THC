{
  "nbformat": 4,
  "nbformat_minor": 0,
  "metadata": {
    "colab": {
      "provenance": [],
      "authorship_tag": "ABX9TyOPbLiSIOd6bQDxdyYNu0Yr",
      "include_colab_link": true
    },
    "kernelspec": {
      "name": "python3",
      "display_name": "Python 3"
    },
    "language_info": {
      "name": "python"
    }
  },
  "cells": [
    {
      "cell_type": "markdown",
      "metadata": {
        "id": "view-in-github",
        "colab_type": "text"
      },
      "source": [
        "<a href=\"https://colab.research.google.com/github/didiercsgm/THC/blob/main/THC_DIDIER_CAMILLE_GAETAN_SERRANO_MORENO_12_10_2023.ipynb\" target=\"_parent\"><img src=\"https://colab.research.google.com/assets/colab-badge.svg\" alt=\"Open In Colab\"/></a>"
      ]
    },
    {
      "cell_type": "code",
      "execution_count": 1,
      "metadata": {
        "colab": {
          "base_uri": "https://localhost:8080/"
        },
        "id": "6dgTeqYXISpe",
        "outputId": "7d720d55-137e-4b0c-8885-d41872eb3752"
      },
      "outputs": [
        {
          "output_type": "stream",
          "name": "stdout",
          "text": [
            "15\n"
          ]
        }
      ],
      "source": [
        "x = lambda a : a + 10\n",
        "print(x(5))"
      ]
    },
    {
      "cell_type": "code",
      "source": [
        "def mifunc(n):\n",
        "  return lambda a : a * n\n",
        "\n",
        "MiDoble = mifunc(2)\n",
        "MiTriple = mifunc(3)\n",
        "\n",
        "print(MiDoble(11))\n",
        "print(MiTriple(11))"
      ],
      "metadata": {
        "colab": {
          "base_uri": "https://localhost:8080/"
        },
        "id": "zGHcbDftIgY_",
        "outputId": "555889fc-2bb0-47d0-bd2c-94e85d4cf1ce"
      },
      "execution_count": 7,
      "outputs": [
        {
          "output_type": "stream",
          "name": "stdout",
          "text": [
            "22\n",
            "33\n"
          ]
        }
      ]
    },
    {
      "cell_type": "code",
      "source": [
        "def evens(n):\n",
        "  return n % 2 == 0\n",
        "\n",
        "  #return lambda a :\n",
        "\n",
        "lst = [1,2,3,4,5,6,7,8,9,10]\n",
        "\n",
        "res = filter(evens, lst)\n",
        "\n",
        "print(list(res))"
      ],
      "metadata": {
        "colab": {
          "base_uri": "https://localhost:8080/"
        },
        "id": "qQC9YW4dJY1P",
        "outputId": "130d07cb-601f-4941-e335-7129e0fb4a85"
      },
      "execution_count": 17,
      "outputs": [
        {
          "output_type": "stream",
          "name": "stdout",
          "text": [
            "[2, 4, 6, 8, 10]\n"
          ]
        }
      ]
    },
    {
      "cell_type": "code",
      "source": [
        "import random\n",
        "\n",
        "def password(st = str(input())):\n",
        "  #return lambda a : a\n",
        "  chars = [\"!\",\"#\",\"$\",\"%\",\"&\",\"/\",\"=\"]\n",
        "  pew = \"\"\n",
        "  for i in range(len(st)):\n",
        "    p = random.choice(chars)\n",
        "    pew = pew+p\n",
        "  res = \"\".join(i + j for i, j in zip(st, pew))\n",
        "\n",
        "  #for a\n",
        "  print(res)\n",
        "\n",
        "password()"
      ],
      "metadata": {
        "colab": {
          "base_uri": "https://localhost:8080/"
        },
        "id": "aJzB0CJUOKlD",
        "outputId": "9b87a69b-0e57-4199-c90f-c49e421b7772"
      },
      "execution_count": 1,
      "outputs": [
        {
          "output_type": "stream",
          "name": "stdout",
          "text": [
            "contraseña\n",
            "c%o$n$t!r/a!s#e!ñ$a/\n"
          ]
        }
      ]
    },
    {
      "cell_type": "code",
      "source": [
        "mat1 = [[1,1,1],[1,1,1],[1,1,1]]\n",
        "mat2 = [[1,1,1],[1,1,1],[1,1,1]]\n",
        "\n",
        "def msum(m1 = mat1, m2 = mat2):\n",
        "  matres = []\n",
        "  for i in len (m1):\n",
        "    matress m1[i][i]\n",
        "\n",
        "  print(matres)"
      ],
      "metadata": {
        "colab": {
          "base_uri": "https://localhost:8080/"
        },
        "id": "XsHmdk0yVFU6",
        "outputId": "9b5ce827-177f-4a14-a2c3-0af54e6fe3c9"
      },
      "execution_count": 54,
      "outputs": [
        {
          "output_type": "stream",
          "name": "stdout",
          "text": [
            "[1, 1, 1]\n"
          ]
        }
      ]
    }
  ]
}