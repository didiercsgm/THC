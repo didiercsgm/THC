{
  "nbformat": 4,
  "nbformat_minor": 0,
  "metadata": {
    "colab": {
      "provenance": [],
      "include_colab_link": true
    },
    "kernelspec": {
      "name": "python3",
      "display_name": "Python 3"
    },
    "language_info": {
      "name": "python"
    }
  },
  "cells": [
    {
      "cell_type": "markdown",
      "metadata": {
        "id": "view-in-github",
        "colab_type": "text"
      },
      "source": [
        "<a href=\"https://colab.research.google.com/github/didiercsgm/THC/blob/main/TareaE.ipynb\" target=\"_parent\"><img src=\"https://colab.research.google.com/assets/colab-badge.svg\" alt=\"Open In Colab\"/></a>"
      ]
    },
    {
      "cell_type": "markdown",
      "source": [
        "TAREA/EXAMEN 1\n",
        "\n",
        "FECHA DE ENTREGA: 27 DE OCTUBRE 2023\n",
        "\n",
        "INTEGRANTES:\n",
        "\n",
        "Ríos Rocha Miguel Eduardo\n",
        "\n",
        "Serrano Moreno Didier Camille Gaetan"
      ],
      "metadata": {
        "id": "heJwmvylsXbb"
      }
    },
    {
      "cell_type": "markdown",
      "source": [
        "1. Sumas de matrices rectangulares."
      ],
      "metadata": {
        "id": "lSBWL6bFtJhh"
      }
    },
    {
      "cell_type": "code",
      "execution_count": 13,
      "metadata": {
        "id": "RfuwSeTRS8oG",
        "colab": {
          "base_uri": "https://localhost:8080/"
        },
        "outputId": "89ab34cb-b3b4-47dc-afb6-2b1f5b4819ba"
      },
      "outputs": [
        {
          "output_type": "stream",
          "name": "stdout",
          "text": [
            "[[89. 96. 26.]\n",
            " [51. 49. 41.]\n",
            " [15. 26.  5.]]\n",
            "sumado con\n",
            "[[12. 94. 44.]\n",
            " [16. 96. 36.]\n",
            " [43. 13. 84.]]\n",
            "es\n",
            "[[101. 190.  70.]\n",
            " [ 67. 145.  77.]\n",
            " [ 58.  39.  89.]]\n"
          ]
        }
      ],
      "source": [
        "import numpy as np #Definimos np con la blioteca de numpy, como estamos en colab, esto se queda para el resto de las células\n",
        "\n",
        "dims = (3, 3) #definimos las dimensiones de la matriz, en este caso es 3 por 3\n",
        "\n",
        "#Pedimos crear los arreglos de una manera aleatoria con números del 1 al 100, con las dimensiones ya definidas\n",
        "arr1 = np.floor(np.random.rand(*dims)*101)\n",
        "arr2 = np.floor(np.random.rand(*dims)*101)\n",
        "\n",
        "#Definimos una función para la suma de matrices\n",
        "def arr_sum(a = arr1,b = arr2):\n",
        "\n",
        "#Si las matrices no son de forma nxn no se podran sumar\n",
        "  if a.shape != b.shape:\n",
        "    print(\"no se pueden sumar matrices de diferentes dimensiones entrada a entrada\")\n",
        "    return\n",
        "\n",
        "#Agregamos otro arreglo el cual se llenara con la suma de matrices, del mismo tamaño a las matroces al ser sumadas\n",
        "  arr_res = np.zeros(a.shape)\n",
        "\n",
        "#Pedimos que para cada elemento de la primera matriz se sume con el elemnto en su misma posición de la segunda matriz\n",
        "  for i in np.ndindex(a.shape):\n",
        "      arr_res[i] = a[i] + b[i]\n",
        "\n",
        "#Pedimos que imprima ambas matrices y la suma de las matrices\n",
        "  print(a)\n",
        "  print(\"sumado con\")\n",
        "  print(b)\n",
        "  print(\"es\")\n",
        "  print(arr_res)\n",
        "\n",
        "arr_sum()"
      ]
    },
    {
      "cell_type": "markdown",
      "source": [
        "2. Multiplicación entrada a entrada rectangulares."
      ],
      "metadata": {
        "id": "B7IglpmFtUOY"
      }
    },
    {
      "cell_type": "code",
      "source": [
        "dims = (3, 3)\n",
        "\n",
        "arr1 = np.floor(np.random.rand(*dims)*101)\n",
        "arr2 = np.floor(np.random.rand(*dims)*101)\n",
        "\n",
        "#Definimos una función para la multiplicación entrada por entrada\n",
        "def arr_mult(a = arr1,b = arr2):\n",
        "\n",
        "#Si las matrices no son de forma nxn no se podran multiplicar\n",
        "  if a.shape != b.shape:\n",
        "    print(\"no se pueden multiplicar matrices de diferentes dimensiones entrada a entrada\")\n",
        "    return\n",
        "\n",
        "  arr_res = np.zeros(a.shape)\n",
        "\n",
        "#Pedimos que para cada elemento de la primera matriz se multiplique por el elemnto en su misma posición de la segunda matriz\n",
        "  for i in np.ndindex(a.shape):\n",
        "      arr_res[i] = a[i] * b[i]\n",
        "\n",
        "#Pedimos que imprima ambas matrices aleatorias con el producto entrada por entrada\n",
        "  print(a)\n",
        "  print(\"multiplicado por\")\n",
        "  print(b)\n",
        "  print(\"entrada a entrada es\")\n",
        "  print(arr_res)\n",
        "\n",
        "arr_mult()"
      ],
      "metadata": {
        "id": "9JeYC6IUmyj-",
        "outputId": "fdde8117-e7a4-4018-d075-62db05fa702c",
        "colab": {
          "base_uri": "https://localhost:8080/"
        }
      },
      "execution_count": 14,
      "outputs": [
        {
          "output_type": "stream",
          "name": "stdout",
          "text": [
            "[[39. 58. 15.]\n",
            " [32. 93. 78.]\n",
            " [88. 46. 34.]]\n",
            "multiplicado por\n",
            "[[46. 38. 52.]\n",
            " [73. 82. 13.]\n",
            " [43. 32. 77.]]\n",
            "entrada a entrada es\n",
            "[[1794. 2204.  780.]\n",
            " [2336. 7626. 1014.]\n",
            " [3784. 1472. 2618.]]\n"
          ]
        }
      ]
    },
    {
      "cell_type": "markdown",
      "source": [
        "3. La traza."
      ],
      "metadata": {
        "id": "TdhBBfartWyf"
      }
    },
    {
      "cell_type": "code",
      "source": [
        "dims = (3, 3)\n",
        "\n",
        "arr1 = np.floor(np.random.rand(*dims)*101)\n",
        "\n",
        "\n",
        "#Definimos una función para la traza de una matriz\n",
        "def arr_trace(a = arr1):\n",
        "\n",
        "#Si la matriz no es de forma nxn no se podra hacer la traza\n",
        "  if len(a) != len(a[1]):\n",
        "    print(\"la traza sólo existe para matrices cuadradas\")\n",
        "    return\n",
        "\n",
        "  arr_res = 0 #Nueva variable igual a cero, se le van a ir sumando los resultados parciales\n",
        "\n",
        "#Pedimos que para cada elemento n de la fila n del arreglo se sume con arr_res\n",
        "  for i in range(len(a)):\n",
        "    arr_res += a[i,i]\n",
        "\n",
        "#Pedimos que imprima la matriz aleatoria con el resultado de la traza\n",
        "  print(\"la traza de\")\n",
        "  print(a)\n",
        "  print(\"es\",arr_res)\n",
        "\n",
        "arr_trace()"
      ],
      "metadata": {
        "id": "lCewrMP0tYmV",
        "colab": {
          "base_uri": "https://localhost:8080/"
        },
        "outputId": "12a1347a-e11d-4970-cb4c-e833359077e4"
      },
      "execution_count": 15,
      "outputs": [
        {
          "output_type": "stream",
          "name": "stdout",
          "text": [
            "la traza de\n",
            "[[62. 61. 14.]\n",
            " [17.  3. 57.]\n",
            " [35.  9. 37.]]\n",
            "es 102.0\n"
          ]
        }
      ]
    },
    {
      "cell_type": "markdown",
      "source": [
        "4. La transpuesta."
      ],
      "metadata": {
        "id": "OCHZl2GDtZMB"
      }
    },
    {
      "cell_type": "code",
      "source": [
        "dims = (3, 3)\n",
        "\n",
        "arr1 = np.floor(np.random.rand(*dims)*101)\n",
        "\n",
        "#Definimos una función para la transpuesta de una matriz\n",
        "def arr_transpose(a = arr1):\n",
        "\n",
        "#Damos las filas y las columnas de la matriz original\n",
        "\tfils = len(a)\n",
        "\tcols = len(a[0])\n",
        "\n",
        " #Pedimos un nuevo arreglo con las las filas del tamaño de las columnas de la primera matriz y columnas de tamaño de las filas\n",
        "\tarr_res = np.zeros((cols,fils))\n",
        "\n",
        " #Pedimos que se impriman el número de columnas y filas de la matriz resultante\n",
        "\tprint(\"El número de columnas y filas son\", fils, \"y\", cols)\n",
        "\n",
        "#Pedimos que para cada elemento de las columnas y filas se intercambien en el nuevo arreglo las columnas con las filas y las filas con las columnas\n",
        "\tfor i in range(cols):\n",
        "\t\tfor j in range(fils):\n",
        "\t\t\tarr_res[i,j] = a[j,i]\n",
        "\n",
        "#Pedimos que imprima la matriz original y el resultado de la transpuesta\n",
        "\tprint(\"la transpuesta de\")\n",
        "\tprint(a)\n",
        "\tprint(\"es\\n\", arr_res)\n",
        "\n",
        "arr_transpose()"
      ],
      "metadata": {
        "id": "sHSpgi0vtcSb",
        "colab": {
          "base_uri": "https://localhost:8080/"
        },
        "outputId": "0cc64f02-39a7-401c-b6c5-d2ccc7b296f0"
      },
      "execution_count": 16,
      "outputs": [
        {
          "output_type": "stream",
          "name": "stdout",
          "text": [
            "El número de columnas y filas son 3 y 3\n",
            "la transpuesta de\n",
            "[[28. 64. 49.]\n",
            " [96. 96. 14.]\n",
            " [66. 68. 77.]]\n",
            "es\n",
            " [[28. 96. 66.]\n",
            " [64. 96. 68.]\n",
            " [49. 14. 77.]]\n"
          ]
        }
      ]
    },
    {
      "cell_type": "markdown",
      "source": [
        "5. El máximo y mínimo elemento en una matriz."
      ],
      "metadata": {
        "id": "QvWPGapdtbPo"
      }
    },
    {
      "cell_type": "code",
      "source": [
        "dims = (3,3)\n",
        "\n",
        "arr1 = np.floor(np.random.rand(*dims)*101)\n",
        "\n",
        "\n",
        "#definimos función para sacar los máximos y mínimos\n",
        "def arr_maxmin(a = arr1):\n",
        "\n",
        "  print(\"la matriz es\",a)\n",
        "\n",
        "  n = a.size # definimos una variable como los elementos en una dada fila de a\n",
        "  swap = True # definimos una variable con valor de verdad para el bucle\n",
        "  #empezamos el bucle, que va a ordenar a los elementos de la matriz\n",
        "  while swap:\n",
        "    swap = False # decimos que el bucle tiene que seguir al principio\n",
        "    for i in range(n - 1):  # bucles for anidados para ir comparando dos dados elementos de la matriz\n",
        "      for j in range(n - i - 1):\n",
        "        if a.flat[j] > a.flat[j + 1]: # comparamos los dos dados elmentos de la matriz\n",
        "          a.flat[j], a.flat[j + 1] = a.flat[j + 1], a.flat[j] # si la comparación resulta verdadera, cambiamos el orden\n",
        "\n",
        "  max = a[len(a)-1,len(a[0])-1]\n",
        "  min = a[0,0]\n",
        "\n",
        "  print(\"el valor máximo es\", max)\n",
        "  print(\"el vamor mínimo es\", min)\n",
        "\n",
        "arr_maxmin()"
      ],
      "metadata": {
        "id": "nRT_cAT0teZM",
        "colab": {
          "base_uri": "https://localhost:8080/"
        },
        "outputId": "747c6b94-0762-44e4-b432-1b2df1d1639b"
      },
      "execution_count": 10,
      "outputs": [
        {
          "output_type": "stream",
          "name": "stdout",
          "text": [
            "la matriz es [[66. 11.  0.]\n",
            " [77. 45. 77.]\n",
            " [54. 77. 75.]]\n",
            "el valor máximo es 77.0\n",
            "el vamor mínimo es 0.0\n"
          ]
        }
      ]
    },
    {
      "cell_type": "markdown",
      "source": [
        "6. La suma del cuadrado de los elementos de una matriz."
      ],
      "metadata": {
        "id": "3l5WfZ7bte-p"
      }
    },
    {
      "cell_type": "code",
      "source": [
        "dims = (3, 3)\n",
        "\n",
        "arr1 = np.floor(np.random.rand(*dims)*101)\n",
        "\n",
        "#Definimos una función para la suma del cuadrado de los elementos de una matriz\n",
        "def arr_squaresum(a = arr1):\n",
        "\n",
        "#Creamos una variable igual a 0\n",
        "  arr_res = 0\n",
        "\n",
        "#Pedimos que para cada elemento del primer arreglo se eleve al cuadrado y luego que se sume con la variable arr_res\n",
        "  for i in np.ndindex(a.shape):\n",
        "     arr_res += a[i] ** 2\n",
        "\n",
        "#Pedimos que imprima la matriz aleatoria con el resultado de la suma del cuadrado de los elementos de una matriz\n",
        "  print(\"la suma de los cuadrados de los elementos de\")\n",
        "  print(a)\n",
        "  print(\"es\", arr_res)\n",
        "\n",
        "arr_squaresum()"
      ],
      "metadata": {
        "id": "_tsGhBX2tgxo",
        "colab": {
          "base_uri": "https://localhost:8080/"
        },
        "outputId": "2329a578-a9c6-4f61-cb24-561eaf20c34d"
      },
      "execution_count": 17,
      "outputs": [
        {
          "output_type": "stream",
          "name": "stdout",
          "text": [
            "la suma de los cuadrados de los elementos de\n",
            "[[ 41.  73. 100.]\n",
            " [ 40.  19.   4.]\n",
            " [  9.  55.  23.]]\n",
            "es 22622.0\n"
          ]
        }
      ]
    },
    {
      "cell_type": "markdown",
      "source": [
        "7. La potencia de matrices.\n",
        "\n",
        "\n"
      ],
      "metadata": {
        "id": "cg_hIGz1thIh"
      }
    },
    {
      "cell_type": "code",
      "source": [
        "shape = (3, 3)\n",
        "\n",
        "arr1 = np.floor(np.random.rand(*shape)*101)\n",
        "#Definimos una función para la potencia de matrices\n",
        "def arr_power(a = arr1, p = 3):\n",
        "\n",
        "#Se pide un número para potenciar la matriz\n",
        "  p = float(input(\"a qué potencia deseas elevar la matriz \"))\n",
        "\n",
        "#Pedimos un nuevo arreglo que se llene con las potencias de la matriz anterior\n",
        "  arr_res = np.zeros(a.shape)\n",
        "\n",
        "#Pedimos que para cada elemento de la primera matriz se elve al número dado\n",
        "  for i in np.ndindex(a.shape):\n",
        "      arr_res[i] = a[i] ** p\n",
        "#Pedimos que imprima la matriz y la potencia de la matriz\n",
        "  print(\"la potencia de\")\n",
        "  print(a)\n",
        "  print(\"a la\",p,\"es\")\n",
        "  print(arr_res)\n",
        "\n",
        "arr_power()"
      ],
      "metadata": {
        "id": "PtEO-FmOti5q",
        "colab": {
          "base_uri": "https://localhost:8080/"
        },
        "outputId": "911e3176-239f-4126-9ea2-773735edf501"
      },
      "execution_count": 18,
      "outputs": [
        {
          "output_type": "stream",
          "name": "stdout",
          "text": [
            "a qué potencia deseas elevar la matriz 3\n",
            "la potencia de\n",
            "[[25. 86. 73.]\n",
            " [80. 29. 32.]\n",
            " [48. 28. 98.]]\n",
            "a la 3.0 es\n",
            "[[ 15625. 636056. 389017.]\n",
            " [512000.  24389.  32768.]\n",
            " [110592.  21952. 941192.]]\n"
          ]
        }
      ]
    }
  ]
}